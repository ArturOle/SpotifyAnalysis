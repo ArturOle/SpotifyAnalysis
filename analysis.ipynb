{
 "cells": [
  {
   "cell_type": "markdown",
   "metadata": {},
   "source": [
    "### Data Warehouse and data mining systems #2"
   ]
  },
  {
   "cell_type": "code",
   "execution_count": 4,
   "metadata": {},
   "outputs": [],
   "source": [
    "import pandas as pd\n",
    "import numpy as np \n",
    "\n",
    "DATA_DIR=\"SpotifyAnalysis\\\\datasets\\\\\""
   ]
  },
  {
   "cell_type": "code",
   "execution_count": 9,
   "metadata": {},
   "outputs": [
    {
     "name": "stdout",
     "output_type": "stream",
     "text": [
      "   Position                               Track Name            Artist  \\\n",
      "0         1                                  Starboy        The Weeknd   \n",
      "1         2                                   Closer  The Chainsmokers   \n",
      "2         3                          Let Me Love You          DJ Snake   \n",
      "3         4  Rockabye (feat. Sean Paul & Anne-Marie)      Clean Bandit   \n",
      "4         5                                One Dance             Drake   \n",
      "\n",
      "   Streams        Date                                              Genre  \n",
      "0  3135625  2017-01-01  ['canadian pop', 'canadian contemporary r&b', ...  \n",
      "1  3015525  2017-01-01  ['pop', 'pop dance', 'tropical house', 'edm', ...  \n",
      "2  2545384  2017-01-01  ['pop', 'electronic trap', 'dance pop', 'edm',...  \n",
      "3  2356604  2017-01-01  ['pop', 'uk dance', 'dance pop', 'uk funky', '...  \n",
      "4  2259887  2017-01-01  ['toronto rap', 'canadian pop', 'canadian hip ...  \n",
      "------------------------------------------------------------------------------------------------------------------------\n",
      "                                           title      artist    top genre  \\\n",
      "0                  STARSTRUKK (feat. Katy Perry)       3OH!3    dance pop   \n",
      "1                    My First Kiss (feat. Ke$ha)       3OH!3    dance pop   \n",
      "2                                I Need A Dollar  Aloe Blacc     pop soul   \n",
      "3  Airplanes (feat. Hayley Williams of Paramore)       B.o.B  atl hip hop   \n",
      "4              Nothin' on You (feat. Bruno Mars)       B.o.B  atl hip hop   \n",
      "\n",
      "   year released       added  bpm  nrgy  dnce  dB  live  val  dur  acous  \\\n",
      "0           2009  2022‑02‑17  140    81    61  -6    23   23  203      0   \n",
      "1           2010  2022‑02‑17  138    89    68  -4    36   83  192      1   \n",
      "2           2010  2022‑02‑17   95    48    84  -7     9   96  243     20   \n",
      "3           2010  2022‑02‑17   93    87    66  -4     4   38  180     11   \n",
      "4           2010  2022‑02‑17  104    85    69  -6     9   74  268     39   \n",
      "\n",
      "   spch  pop  top year artist type  \n",
      "0     6   70      2010         Duo  \n",
      "1     8   68      2010         Duo  \n",
      "2     3   72      2010        Solo  \n",
      "3    12   80      2010        Solo  \n",
      "4     5   79      2010        Solo  \n"
     ]
    }
   ],
   "source": [
    "data1 = pd.read_csv(\"\".join([DATA_DIR,\"SpotifyTop200songs2017-2021\\\\data.csv\"]), sep=\"#\")\n",
    "data2 = pd.read_excel(\"D:\\Repos\\SpotifyAnalysis\\SpotifyAnalysis\\datasets\\Spotify 2010 - 2019 Top 100 Songs.xlsx\")\n",
    "print(data1.head(5))\n",
    "print('-'*120)\n",
    "print(data2.head(5))\n",
    "\n"
   ]
  },
  {
   "cell_type": "markdown",
   "metadata": {},
   "source": [
    "\n",
    "#\n",
    "\n",
    "\n",
    "\n",
    "\n",
    "\n",
    "\n",
    "\n",
    "\n",
    "\n",
    "<table border=\"1\" class=\"dataframe\">\n",
    "  <thead>\n",
    "    <tr style=\"text-align: right;\">\n",
    "      <th></th>\n",
    "      <th>Position</th>\n",
    "      <th>Track Name</th>\n",
    "      <th>Artist</th>\n",
    "      <th>Streams</th>\n",
    "      <th>Date</th>\n",
    "      <th>Genre</th>\n",
    "    </tr>\n",
    "  </thead>\n",
    "  <tbody>\n",
    "    <tr>\n",
    "      <th>0</th>\n",
    "      <td>1</td>\n",
    "      <td>Starboy</td>\n",
    "      <td>The Weeknd</td>\n",
    "      <td>3135625</td>\n",
    "      <td>2017-01-01</td>\n",
    "      <td>['canadian pop', 'canadian contemporary r&amp;b', 'pop']</td>\n",
    "    </tr>\n",
    "    <tr>\n",
    "      <th>1</th>\n",
    "      <td>2</td>\n",
    "      <td>Closer</td>\n",
    "      <td>The Chainsmokers</td>\n",
    "      <td>3015525</td>\n",
    "      <td>2017-01-01</td>\n",
    "      <td>['pop', 'pop dance', 'tropical house', 'edm', 'electropop', 'dance pop']</td>\n",
    "    </tr>\n",
    "    <tr>\n",
    "      <th>2</th>\n",
    "      <td>3</td>\n",
    "      <td>Let Me Love You</td>\n",
    "      <td>DJ Snake</td>\n",
    "      <td>2545384</td>\n",
    "      <td>2017-01-01</td>\n",
    "      <td>['pop', 'electronic trap', 'dance pop', 'edm', 'pop dance', 'pop rap']</td>\n",
    "    </tr>\n",
    "    <tr>\n",
    "      <th>3</th>\n",
    "      <td>4</td>\n",
    "      <td>Rockabye (feat. Sean Paul &amp; Anne-Marie)</td>\n",
    "      <td>Clean Bandit</td>\n",
    "      <td>2356604</td>\n",
    "      <td>2017-01-01</td>\n",
    "      <td>['pop', 'uk dance', 'dance pop', 'uk funky', 'tropical house', 'pop dance', 'post-teen pop', 'edm']</td>\n",
    "    </tr>\n",
    "    <tr>\n",
    "      <th>4</th>\n",
    "      <td>5</td>\n",
    "      <td>One Dance</td>\n",
    "      <td>Drake</td>\n",
    "      <td>2259887</td>\n",
    "      <td>2017-01-01</td>\n",
    "      <td>['toronto rap', 'canadian pop', 'canadian hip hop', 'rap', 'pop rap', 'hip hop']</td>\n",
    "    </tr>\n",
    "  </tbody>\n",
    "</table>"
   ]
  },
  {
   "cell_type": "code",
   "execution_count": null,
   "metadata": {},
   "outputs": [],
   "source": []
  }
 ],
 "metadata": {
  "interpreter": {
   "hash": "4cf2d87970fef5c47e1bc4c529f48171606c7e216f3d8a926b4c516e303aa1b7"
  },
  "kernelspec": {
   "display_name": "Python 3.9.12 64-bit",
   "language": "python",
   "name": "python3"
  },
  "language_info": {
   "codemirror_mode": {
    "name": "ipython",
    "version": 3
   },
   "file_extension": ".py",
   "mimetype": "text/x-python",
   "name": "python",
   "nbconvert_exporter": "python",
   "pygments_lexer": "ipython3",
   "version": "3.9.12"
  },
  "orig_nbformat": 4
 },
 "nbformat": 4,
 "nbformat_minor": 2
}
